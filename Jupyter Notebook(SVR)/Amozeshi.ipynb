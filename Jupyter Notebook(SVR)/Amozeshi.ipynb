{
 "cells": [
  {
   "cell_type": "code",
   "execution_count": 61,
   "id": "886b398a",
   "metadata": {},
   "outputs": [],
   "source": [
    "\n",
    "    \n",
    "    import pandas as pd\n",
    "    import numpy as np\n",
    "\n",
    "    # Reading the dataset\n",
    "    dataframe = pd.read_excel('SamplesColectting.xlsx')\n",
    "    m = 1368\n",
    "    NPs_EOR_Method = dataframe.iloc[:m, 18].values.reshape(m,1)\n",
    "    NPs_Concentration = dataframe.iloc[:m, 2].values.reshape(m,1)\n",
    "    Polymer_Concentration = dataframe.iloc[:m, 3].values.reshape(m,1)\n",
    "    NPs_Type = dataframe.iloc[:m, 19].values.reshape(m,1)\n",
    "    NPs_Size = dataframe.iloc[:m, 5].values.reshape(m,1)\n",
    "    Brine_Salinity = dataframe.iloc[:m, 6].values.reshape(m,1)\n",
    "    API_Gravity = dataframe.iloc[:m, 7].values.reshape(m,1)\n",
    "    Initial_Oil_Saturation = dataframe.iloc[:m, 8].values.reshape(m,1)\n",
    "    Viscosity = dataframe.iloc[:m, 9].values.reshape(m,1)\n",
    "    Temperature = dataframe.iloc[:m, 10].values.reshape(m,1)\n",
    "    Prosity = dataframe.iloc[:m, 11].values.reshape(m,1)\n",
    "    Permeability = dataframe.iloc[:m, 12].values.reshape(m,1)\n",
    "    Rock_Type = dataframe.iloc[:m, 20].values.reshape(m,1)\n",
    "    PV_injection = dataframe.iloc[:m, 14].values.reshape(m,1)\n",
    "    EOR = dataframe.iloc[:m, 15].values.reshape(m,1)\n",
    "\n",
    "    Input = np.array([NPs_EOR_Method, NPs_Concentration, Polymer_Concentration, NPs_Type, NPs_Size, Brine_Salinity,\n",
    "                      API_Gravity,Initial_Oil_Saturation, Viscosity, Temperature, Prosity, Permeability,\n",
    "                      Rock_Type, PV_injection]).reshape(14,1368).T\n",
    "    Target = EOR\n"
   ]
  },
  {
   "cell_type": "code",
   "execution_count": 63,
   "id": "1ac04485",
   "metadata": {},
   "outputs": [
    {
     "data": {
      "text/plain": [
       "array([400.0, 400.0, 400.0, ..., 0.0, 0.0, 0.0], dtype=object)"
      ]
     },
     "execution_count": 63,
     "metadata": {},
     "output_type": "execute_result"
    }
   ],
   "source": [
    "Input[:,2]"
   ]
  },
  {
   "cell_type": "code",
   "execution_count": null,
   "id": "b89d62c1",
   "metadata": {},
   "outputs": [],
   "source": []
  }
 ],
 "metadata": {
  "kernelspec": {
   "display_name": "Python 3",
   "language": "python",
   "name": "python3"
  },
  "language_info": {
   "codemirror_mode": {
    "name": "ipython",
    "version": 3
   },
   "file_extension": ".py",
   "mimetype": "text/x-python",
   "name": "python",
   "nbconvert_exporter": "python",
   "pygments_lexer": "ipython3",
   "version": "3.8.8"
  }
 },
 "nbformat": 4,
 "nbformat_minor": 5
}
