{
 "cells": [
  {
   "cell_type": "markdown",
   "id": "1eddb133",
   "metadata": {},
   "source": [
    "## Importing Libraries"
   ]
  },
  {
   "cell_type": "code",
   "execution_count": 1,
   "id": "122e5ad9",
   "metadata": {},
   "outputs": [],
   "source": [
    "import numpy as np\n",
    "import pandas as pd\n",
    "import matplotlib.pyplot as plt\n",
    "import seaborn as sns\n",
    "# get_ipython().run_line_magic('matplotlib', 'inline')"
   ]
  },
  {
   "cell_type": "markdown",
   "id": "623e4f3e",
   "metadata": {},
   "source": [
    "## Loading Data"
   ]
  },
  {
   "cell_type": "code",
   "execution_count": 2,
   "id": "09aa2aa3",
   "metadata": {},
   "outputs": [],
   "source": [
    "dataset = pd.read_csv(\"SamplesColectting.csv\")\n",
    "# dataset.info()\n",
    "\n",
    "Inputs = dataset.iloc[:, [2, 3, 5, 6, 7, 8, 9, 10, 11, 12, 16, 17, 20, 22]].values\n",
    "Targets = dataset.iloc[:, [23]].values"
   ]
  },
  {
   "cell_type": "markdown",
   "id": "57f5a373",
   "metadata": {},
   "source": [
    "## Splitting Data, Training"
   ]
  },
  {
   "cell_type": "code",
   "execution_count": 3,
   "id": "41cecc72",
   "metadata": {
    "scrolled": false
   },
   "outputs": [
    {
     "name": "stdout",
     "output_type": "stream",
     "text": [
      "              precision    recall  f1-score   support\n",
      "\n",
      "           1       0.99      1.00      0.99       236\n",
      "           2       0.95      0.97      0.96        59\n",
      "           3       1.00      0.98      0.99        83\n",
      "\n",
      "    accuracy                           0.99       378\n",
      "   macro avg       0.98      0.98      0.98       378\n",
      "weighted avg       0.99      0.99      0.99       378\n",
      "\n",
      "[[235   1   0]\n",
      " [  2  57   0]\n",
      " [  0   2  81]]\n"
     ]
    },
    {
     "name": "stderr",
     "output_type": "stream",
     "text": [
      "C:\\ProgramData\\Anaconda3\\lib\\site-packages\\sklearn\\utils\\validation.py:63: DataConversionWarning: A column-vector y was passed when a 1d array was expected. Please change the shape of y to (n_samples, ), for example using ravel().\n",
      "  return f(*args, **kwargs)\n"
     ]
    }
   ],
   "source": [
    "from sklearn.model_selection import train_test_split\n",
    "trainInputs, testInputs, trainTargets, testTargets = train_test_split(Inputs, Targets, test_size=0.3, random_state=20)\n",
    "\n",
    "from sklearn.svm import SVC\n",
    "model=SVC(C=100, kernel='rbf', gamma=0.1, probability=True)\n",
    "model.fit(trainInputs, trainTargets)\n",
    "testOutputs = model.predict(testInputs)\n",
    "from sklearn.metrics import classification_report, confusion_matrix\n",
    "confusion_matrix_testdata = confusion_matrix(testTargets, testOutputs)\n",
    "classification_report_testdata = classification_report(testTargets, testOutputs)\n",
    "print(classification_report_testdata)\n",
    "print(confusion_matrix_testdata)"
   ]
  },
  {
   "cell_type": "markdown",
   "id": "043367fb",
   "metadata": {},
   "source": [
    "## Hyperparameter tuning using Gridsearch"
   ]
  },
  {
   "cell_type": "code",
   "execution_count": null,
   "id": "969d2d9a",
   "metadata": {
    "scrolled": true
   },
   "outputs": [],
   "source": [
    "from sklearn.model_selection import GridSearchCV\n",
    "param_grid = {'C':[0.1, 1, 10, 100, 1000], 'gamma':[1, 0.1, 0.01, 0.001, 0.0001], 'kernel':['rbf']}\n",
    "\"\"\"C: by increasing C the accuracy and complexibility of model increased\n",
    "   gamma (free parameter of the gussian): if increase gamma accuracy would decrease\n",
    "   but solution reduced a lot\"\"\"\n",
    "\n",
    "grid = GridSearchCV(SVC(), param_grid, refit=True, verbose=3)\n",
    "\"\"\" verbose 3 show you some comments of calculations\"\"\"\n",
    "\n",
    "grid.fit(trainInputs, trainTargets)\n",
    "grid.best_params_\n",
    "grid.best_estimator_\n",
    "\n",
    "grid_predictions_testdata = grid.predict(testInputs)\n",
    "grid_confusion_matrix_testdata = confusion_matrix(testTargets, grid_predictions_testdata)\n",
    "grid_classification_report_testdata = classification_report(testTargets, grid_predictions_testdata)\n",
    "# print(grid_confusion_matrix_testdata)\n",
    "# print(grid_classification_report_testdata)"
   ]
  },
  {
   "cell_type": "markdown",
   "id": "ebbb7f78",
   "metadata": {},
   "source": [
    "## Evaluation"
   ]
  },
  {
   "cell_type": "code",
   "execution_count": null,
   "id": "2d322c8b",
   "metadata": {},
   "outputs": [],
   "source": [
    "print(classification_report_testdata)\n",
    "print(confusion_matrix_testdata)"
   ]
  },
  {
   "cell_type": "markdown",
   "id": "6f5fefb3",
   "metadata": {},
   "source": [
    "## AUC, ROC Calculations"
   ]
  },
  {
   "cell_type": "code",
   "execution_count": 52,
   "id": "ef137b1d",
   "metadata": {},
   "outputs": [
    {
     "data": {
      "text/plain": [
       "<BarContainer object of 3 artists>"
      ]
     },
     "execution_count": 52,
     "metadata": {},
     "output_type": "execute_result"
    },
    {
     "data": {
      "image/png": "[encoded data removed]",
      "text/plain": [
       "<Figure size 432x288 with 1 Axes>"
      ]
     },
     "metadata": {
      "needs_background": "light"
     },
     "output_type": "display_data"
    }
   ],
   "source": [
    "bars = ('1', '2', '3')\n",
    "# finding 3\n",
    "a3=np.where(testTargets==3)\n",
    "a3=len(testTargets[a3])\n",
    "\n",
    "# finding 2\n",
    "a2=np.where(testTargets==2)\n",
    "a2=len(testTargets[a2])\n",
    "\n",
    "# finding 1\n",
    "a1=np.where(testTargets==1)\n",
    "a1=len(testTargets[a1])\n",
    "\n",
    "a=[a1, a2, a3]\n",
    "plt.bar([1, 2, 3], a)"
   ]
  },
  {
   "cell_type": "code",
   "execution_count": 55,
   "id": "65fd34a9",
   "metadata": {
    "scrolled": false
   },
   "outputs": [
    {
     "name": "stdout",
     "output_type": "stream",
     "text": [
      "0.9753550052810703\n"
     ]
    }
   ],
   "source": [
    "# Cohen's Kappa\n",
    "from sklearn.metrics import cohen_kappa_score\n",
    "print(cohen_kappa_score(testOutputs, testTargets))"
   ]
  },
  {
   "cell_type": "code",
   "execution_count": null,
   "id": "c700af66",
   "metadata": {},
   "outputs": [],
   "source": []
  },
  {
   "cell_type": "code",
   "execution_count": null,
   "id": "9216e4d0",
   "metadata": {},
   "outputs": [],
   "source": []
  },
  {
   "cell_type": "code",
   "execution_count": null,
   "id": "af31dc78",
   "metadata": {},
   "outputs": [],
   "source": []
  }
 ],
 "metadata": {
  "kernelspec": {
   "display_name": "Python 3",
   "language": "python",
   "name": "python3"
  },
  "language_info": {
   "codemirror_mode": {
    "name": "ipython",
    "version": 3
   },
   "file_extension": ".py",
   "mimetype": "text/x-python",
   "name": "python",
   "nbconvert_exporter": "python",
   "pygments_lexer": "ipython3",
   "version": "3.8.8"
  }
 },
 "nbformat": 4,
 "nbformat_minor": 5
}
